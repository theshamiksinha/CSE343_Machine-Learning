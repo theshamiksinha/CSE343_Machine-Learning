{
  "cells": [
    {
      "cell_type": "code",
      "execution_count": 130,
      "metadata": {
        "id": "nneHqIvBCccv"
      },
      "outputs": [],
      "source": [
        "import numpy as np\n",
        "import pandas as pd\n",
        "import matplotlib.pyplot as plt\n",
        "import seaborn as sns\n",
        "import umap\n",
        "from sklearn.linear_model import LinearRegression\n",
        "from sklearn.model_selection import train_test_split\n",
        "from sklearn.preprocessing import LabelEncoder, StandardScaler\n",
        "from sklearn.metrics import mean_squared_error, mean_absolute_error, r2_score\n",
        "from sklearn.feature_selection import RFE"
      ]
    },
    {
      "cell_type": "code",
      "execution_count": 131,
      "metadata": {
        "id": "iZHqd7MjC54A"
      },
      "outputs": [],
      "source": [
        "df = pd.read_csv('/content/ElectricityBill.csv')\n",
        "\n",
        "\n",
        "numerical_cols = ['Construction_Year', 'Number_of_Floors', 'Energy_Consumption_Per_SqM',\n",
        "                   'Water_Usage_Per_Building', 'Waste_Recycled_Percentage', 'Occupancy_Rate',\n",
        "                   'Indoor_Air_Quality', 'Smart_Devices_Count', 'Maintenance_Resolution_Time',\n",
        "                   'Energy_Per_SqM', 'Number_of_Residents']\n",
        "\n",
        "categorical_cols = ['Building_Type', 'Green_Certified', 'Building_Status', 'Maintenance_Priority']\n",
        "\n",
        "# Fill missing values....... fill with mean median mode depending on data type\n",
        "\n",
        "# For numerical columns\n",
        "df[numerical_cols] = df[numerical_cols].fillna(df[numerical_cols].median())\n",
        "# For categorical columns\n",
        "df[categorical_cols] = df[categorical_cols].fillna(df[categorical_cols].mode().iloc[0])\n",
        "\n",
        "# Label encoding for categorical columns\n",
        "label_encoders = {}\n",
        "for cat_col in categorical_cols:\n",
        "    le = LabelEncoder()\n",
        "    df[cat_col] = le.fit_transform(df[cat_col])\n",
        "    label_encoders[cat_col] = le\n",
        "\n",
        "\n",
        "# Defining the features and target variable\n",
        "X = df.drop('Electricity_Bill', axis=1)\n",
        "Y = df['Electricity_Bill']\n",
        "\n",
        "# Split the dataset into training and testing sets\n",
        "X_train, X_test, Y_train, Y_test = train_test_split(X, Y, test_size=0.2, random_state=42)\n",
        "\n",
        "scaler = StandardScaler()\n",
        "X_train = scaler.fit_transform(X_train)\n",
        "X_test = scaler.transform(X_test)"
      ]
    },
    {
      "cell_type": "code",
      "source": [
        "# Initialize the Linear Regression model\n",
        "lr_model = LinearRegression()\n",
        "\n",
        "# Train the model on the training data\n",
        "lr_model.fit(X_train, Y_train)\n",
        "\n",
        "# On train and test sets\n",
        "Y_train_pred = lr_model.predict(X_train)\n",
        "Y_test_pred = lr_model.predict(X_test)\n",
        "\n",
        "# Mean Squared Error (MSE)\n",
        "train_mse = mean_squared_error(Y_train, Y_train_pred)\n",
        "test_mse = mean_squared_error(Y_test, Y_test_pred)\n",
        "\n",
        "# Root Mean Squared Error (RMSE)\n",
        "train_rmse = np.sqrt(train_mse)\n",
        "test_rmse = np.sqrt(test_mse)\n",
        "\n",
        "# Mean Absolute Error (MAE)\n",
        "train_mae = mean_absolute_error(Y_train, Y_train_pred)\n",
        "test_mae = mean_absolute_error(Y_test, Y_test_pred)\n",
        "\n",
        "# R2 Score\n",
        "train_r2 = r2_score(Y_train, Y_train_pred)\n",
        "test_r2 = r2_score(Y_test, Y_test_pred)\n",
        "\n",
        "# Adjusted R2 Score\n",
        "def adjusted_r2(r2, X):\n",
        "    return 1 - (1 - r2) * (len(Y_train) - 1) / (len(Y_train) - X.shape[1] - 1)\n",
        "\n",
        "train_adjusted_r2 = adjusted_r2(train_r2, X_train)\n",
        "test_adjusted_r2 = adjusted_r2(test_r2, X_test)\n",
        "\n",
        "# Print all the metrics\n",
        "print(\"---- Training Data ----\")\n",
        "print(f\"MSE: {train_mse}\")\n",
        "print(f\"RMSE: {train_rmse}\")\n",
        "print(f\"MAE: {train_mae}\")\n",
        "print(f\"R2 Score: {train_r2}\")\n",
        "print(f\"Adjusted R2 Score: {train_adjusted_r2}\\n\")\n",
        "\n",
        "print(\"---- Test Data ----\")\n",
        "print(f\"MSE: {test_mse}\")\n",
        "print(f\"RMSE: {test_rmse}\")\n",
        "print(f\"MAE: {test_mae}\")\n",
        "print(f\"R2 Score: {test_r2}\")\n",
        "print(f\"Adjusted R2 Score: {test_adjusted_r2}\")"
      ],
      "metadata": {
        "colab": {
          "base_uri": "https://localhost:8080/"
        },
        "id": "9tFSMJsXrN4s",
        "outputId": "b4b5b86b-2c5d-4501-ae1d-3486dd3eb24b"
      },
      "execution_count": 132,
      "outputs": [
        {
          "output_type": "stream",
          "name": "stdout",
          "text": [
            "---- Training Data ----\n",
            "MSE: 24475013.16847547\n",
            "RMSE: 4947.222773281538\n",
            "MAE: 4006.32846932936\n",
            "R2 Score: 0.013922520844610209\n",
            "Adjusted R2 Score: -0.0011091480449536562\n",
            "\n",
            "---- Test Data ----\n",
            "MSE: 24278016.155742623\n",
            "RMSE: 4927.272689403604\n",
            "MAE: 3842.4093125585155\n",
            "R2 Score: 3.7344733075372893e-05\n",
            "Adjusted R2 Score: -0.015205988426481465\n"
          ]
        }
      ]
    }
  ],
  "metadata": {
    "colab": {
      "provenance": []
    },
    "kernelspec": {
      "display_name": "Python 3",
      "name": "python3"
    },
    "language_info": {
      "name": "python"
    }
  },
  "nbformat": 4,
  "nbformat_minor": 0
}