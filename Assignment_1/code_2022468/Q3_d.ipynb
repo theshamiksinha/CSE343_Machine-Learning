{
  "cells": [
    {
      "cell_type": "code",
      "execution_count": 1,
      "metadata": {
        "id": "nneHqIvBCccv"
      },
      "outputs": [
        {
          "ename": "ModuleNotFoundError",
          "evalue": "No module named 'matplotlib'",
          "output_type": "error",
          "traceback": [
            "\u001b[0;31m---------------------------------------------------------------------------\u001b[0m",
            "\u001b[0;31mModuleNotFoundError\u001b[0m                       Traceback (most recent call last)",
            "Cell \u001b[0;32mIn[1], line 3\u001b[0m\n\u001b[1;32m      1\u001b[0m \u001b[38;5;28;01mimport\u001b[39;00m \u001b[38;5;21;01mnumpy\u001b[39;00m \u001b[38;5;28;01mas\u001b[39;00m \u001b[38;5;21;01mnp\u001b[39;00m\n\u001b[1;32m      2\u001b[0m \u001b[38;5;28;01mimport\u001b[39;00m \u001b[38;5;21;01mpandas\u001b[39;00m \u001b[38;5;28;01mas\u001b[39;00m \u001b[38;5;21;01mpd\u001b[39;00m\n\u001b[0;32m----> 3\u001b[0m \u001b[38;5;28;01mimport\u001b[39;00m \u001b[38;5;21;01mmatplotlib\u001b[39;00m\u001b[38;5;21;01m.\u001b[39;00m\u001b[38;5;21;01mpyplot\u001b[39;00m \u001b[38;5;28;01mas\u001b[39;00m \u001b[38;5;21;01mplt\u001b[39;00m\n\u001b[1;32m      4\u001b[0m \u001b[38;5;28;01mimport\u001b[39;00m \u001b[38;5;21;01mseaborn\u001b[39;00m \u001b[38;5;28;01mas\u001b[39;00m \u001b[38;5;21;01msns\u001b[39;00m\n\u001b[1;32m      5\u001b[0m \u001b[38;5;28;01mimport\u001b[39;00m \u001b[38;5;21;01mumap\u001b[39;00m\n",
            "\u001b[0;31mModuleNotFoundError\u001b[0m: No module named 'matplotlib'"
          ]
        }
      ],
      "source": [
        "import numpy as np\n",
        "import pandas as pd\n",
        "import matplotlib.pyplot as plt\n",
        "import seaborn as sns \n",
        "from sklearn.linear_model import LinearRegression\n",
        "from sklearn.model_selection import train_test_split\n",
        "from sklearn.preprocessing import LabelEncoder, StandardScaler\n",
        "from sklearn.metrics import mean_squared_error, mean_absolute_error, r2_score\n",
        "from sklearn.feature_selection import RFE"
      ]
    },
    {
      "cell_type": "code",
      "execution_count": 9,
      "metadata": {
        "id": "iZHqd7MjC54A"
      },
      "outputs": [],
      "source": [
        "df = pd.read_csv('/Users/shamiksinha/Desktop/ML assignment/ElectricityBill.csv')\n",
        "\n",
        "\n",
        "numerical_cols = ['Construction_Year', 'Number_of_Floors', 'Energy_Consumption_Per_SqM',\n",
        "                   'Water_Usage_Per_Building', 'Waste_Recycled_Percentage', 'Occupancy_Rate',\n",
        "                   'Indoor_Air_Quality', 'Smart_Devices_Count', 'Maintenance_Resolution_Time',\n",
        "                   'Energy_Per_SqM', 'Number_of_Residents']\n",
        "\n",
        "categorical_cols = ['Building_Type', 'Green_Certified', 'Building_Status', 'Maintenance_Priority']\n",
        "\n",
        "# Fill missing values....... fill with mean median mode depending on data type\n",
        "\n",
        "# For numerical columns\n",
        "df[numerical_cols] = df[numerical_cols].fillna(df[numerical_cols].median())\n",
        "# For categorical columns\n",
        "df[categorical_cols] = df[categorical_cols].fillna(df[categorical_cols].mode().iloc[0])\n",
        "\n",
        "# Label encoding for categorical columns\n",
        "label_encoders = {}\n",
        "for cat_col in categorical_cols:\n",
        "    le = LabelEncoder()\n",
        "    df[cat_col] = le.fit_transform(df[cat_col])\n",
        "    label_encoders[cat_col] = le\n",
        "\n",
        "# Defining the features and target variable\n",
        "X = df.drop('Electricity_Bill', axis=1)\n",
        "Y = df['Electricity_Bill']\n",
        "\n",
        "# Split the dataset into training and testing sets\n",
        "X_train, X_test, Y_train, Y_test = train_test_split(X, Y, test_size=0.2, random_state=42)"
      ]
    },
    {
      "cell_type": "code",
      "execution_count": 10,
      "metadata": {
        "id": "-pBfXjQlCTlO"
      },
      "outputs": [],
      "source": [
        "model = LinearRegression()\n",
        "\n",
        "# Initialize RFE with the model and specify the number of features to select\n",
        "rfe = RFE(estimator=model, n_features_to_select=3)\n",
        "\n",
        "# Fit RFE to the data\n",
        "rfe.fit(X, Y)\n",
        "\n",
        "# Get the ranking of features (1 means selected)\n",
        "ranking = rfe.ranking_\n",
        "\n",
        "# Get the support (True if the feature is selected)\n",
        "support = rfe.support_\n",
        "\n",
        "# Get the top 3 features\n",
        "selected_features = X.columns[support]"
      ]
    },
    {
      "cell_type": "code",
      "execution_count": 11,
      "metadata": {
        "colab": {
          "base_uri": "https://localhost:8080/"
        },
        "id": "38OwSE0uOx1y",
        "outputId": "8b311555-29c4-4b27-bf8f-077f10349e25"
      },
      "outputs": [
        {
          "name": "stdout",
          "output_type": "stream",
          "text": [
            "\n",
            "---- Training Data ----\n",
            "MSE: 24673540.31152836\n",
            "RMSE: 4967.246753638112\n",
            "MAE: 4006.784035347106\n",
            "R2 Score: 0.005924030979948536\n",
            "Adjusted R2 Score: 0.0029298262539845243\n",
            "\n",
            "---- Test Data ----\n",
            "MSE: 24181190.647202764\n",
            "RMSE: 4917.437406536332\n",
            "MAE: 3825.6515746669897\n",
            "R2 Score: 0.004025392685427787\n",
            "Adjusted R2 Score: -0.008120639111091288\n"
          ]
        }
      ],
      "source": [
        "#only the selected features\n",
        "X_selected_train = X_train[selected_features]\n",
        "X_selected_test = X_test[selected_features]\n",
        "\n",
        "# Train the Linear Regression model using the selected features\n",
        "model.fit(X_selected_train, Y_train)\n",
        "\n",
        "# Predict on both train and test sets\n",
        "Y_train_pred = model.predict(X_selected_train)\n",
        "Y_test_pred = model.predict(X_selected_test)\n",
        "\n",
        "# Calculate metrics\n",
        "train_mse = mean_squared_error(Y_train, Y_train_pred)\n",
        "test_mse = mean_squared_error(Y_test, Y_test_pred)\n",
        "train_rmse = np.sqrt(train_mse)\n",
        "test_rmse = np.sqrt(test_mse)\n",
        "train_mae = mean_absolute_error(Y_train, Y_train_pred)\n",
        "test_mae = mean_absolute_error(Y_test, Y_test_pred)\n",
        "train_r2 = r2_score(Y_train, Y_train_pred)\n",
        "test_r2 = r2_score(Y_test, Y_test_pred)\n",
        "train_adjusted_r2 = 1 - (1 - train_r2) * (len(Y_train) - 1) / (len(Y_train) - X_selected_train.shape[1] - 1)\n",
        "test_adjusted_r2 = 1 - (1 - test_r2) * (len(Y_test) - 1) / (len(Y_test) - X_selected_test.shape[1] - 1)\n",
        "\n",
        "# Print all the metrics\n",
        "print(\"\\n---- Training Data ----\")\n",
        "print(f\"MSE: {train_mse}\")\n",
        "print(f\"RMSE: {train_rmse}\")\n",
        "print(f\"MAE: {train_mae}\")\n",
        "print(f\"R2 Score: {train_r2}\")\n",
        "print(f\"Adjusted R2 Score: {train_adjusted_r2}\\n\")\n",
        "\n",
        "print(\"---- Test Data ----\")\n",
        "print(f\"MSE: {test_mse}\")\n",
        "print(f\"RMSE: {test_rmse}\")\n",
        "print(f\"MAE: {test_mae}\")\n",
        "print(f\"R2 Score: {test_r2}\")\n",
        "print(f\"Adjusted R2 Score: {test_adjusted_r2}\")"
      ]
    }
  ],
  "metadata": {
    "colab": {
      "provenance": []
    },
    "kernelspec": {
      "display_name": "Python 3",
      "name": "python3"
    },
    "language_info": {
      "codemirror_mode": {
        "name": "ipython",
        "version": 3
      },
      "file_extension": ".py",
      "mimetype": "text/x-python",
      "name": "python",
      "nbconvert_exporter": "python",
      "pygments_lexer": "ipython3",
      "version": "3.9.6"
    }
  },
  "nbformat": 4,
  "nbformat_minor": 0
}
