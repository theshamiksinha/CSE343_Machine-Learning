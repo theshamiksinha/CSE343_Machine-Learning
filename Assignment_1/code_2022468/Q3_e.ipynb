{
  "cells": [
    {
      "cell_type": "code",
      "execution_count": 133,
      "metadata": {
        "id": "nneHqIvBCccv"
      },
      "outputs": [],
      "source": [
        "import numpy as np\n",
        "import pandas as pd\n",
        "import matplotlib.pyplot as plt\n",
        "import seaborn as sns\n",
        "import umap\n",
        "from sklearn.linear_model import LinearRegression\n",
        "from sklearn.model_selection import train_test_split\n",
        "from sklearn.preprocessing import LabelEncoder, StandardScaler\n",
        "from sklearn.metrics import mean_squared_error, mean_absolute_error, r2_score\n",
        "from sklearn.feature_selection import RFE\n",
        "from sklearn.linear_model import Ridge"
      ]
    },
    {
      "cell_type": "code",
      "execution_count": 134,
      "metadata": {
        "id": "iZHqd7MjC54A"
      },
      "outputs": [],
      "source": [
        "df = pd.read_csv('/content/ElectricityBill.csv')\n",
        "\n",
        "\n",
        "numerical_cols = ['Construction_Year', 'Number_of_Floors', 'Energy_Consumption_Per_SqM',\n",
        "                   'Water_Usage_Per_Building', 'Waste_Recycled_Percentage', 'Occupancy_Rate',\n",
        "                   'Indoor_Air_Quality', 'Smart_Devices_Count', 'Maintenance_Resolution_Time',\n",
        "                   'Energy_Per_SqM', 'Number_of_Residents']\n",
        "\n",
        "categorical_cols = ['Building_Type', 'Green_Certified', 'Building_Status', 'Maintenance_Priority']\n",
        "\n",
        "# Fill missing values....... fill with mean median mode depending on data type\n",
        "\n",
        "# For numerical columns\n",
        "df[numerical_cols] = df[numerical_cols].fillna(df[numerical_cols].median())\n",
        "# For categorical columns\n",
        "df[categorical_cols] = df[categorical_cols].fillna(df[categorical_cols].mode().iloc[0])\n",
        "\n",
        "# One-Hot Encoding for categorical columns\n",
        "df = pd.get_dummies(df, columns=categorical_cols)\n",
        "\n",
        "# Defining the features and target variable\n",
        "X = df.drop('Electricity_Bill', axis=1)\n",
        "Y = df['Electricity_Bill']\n",
        "\n",
        "# Split the dataset into training and testing sets\n",
        "X_train, X_test, Y_train, Y_test = train_test_split(X, Y, test_size=0.2, random_state=42)"
      ]
    },
    {
      "cell_type": "code",
      "source": [
        "# Initialize Ridge Regression model\n",
        "ridge_model = Ridge(alpha=1.0)  # You can adjust alpha as needed\n",
        "\n",
        "# Train the model\n",
        "ridge_model.fit(X_train, Y_train)\n",
        "\n",
        "# Make predictions\n",
        "Y_train_pred = ridge_model.predict(X_train)\n",
        "Y_test_pred = ridge_model.predict(X_test)\n",
        "\n",
        "# Evaluate the model\n",
        "def evaluate_model(y_true, y_pred, X):\n",
        "    mse = mean_squared_error(y_true, y_pred)\n",
        "    rmse = mean_squared_error(y_true, y_pred, squared=False)\n",
        "    mae = mean_absolute_error(y_true, y_pred)\n",
        "    r2 = r2_score(y_true, y_pred)\n",
        "    n = len(y_true)\n",
        "    p = X.shape[1]\n",
        "    adj_r2 = 1 - (1 - r2) * (n - 1) / (n - p - 1)\n",
        "    return mse, rmse, mae, r2, adj_r2\n",
        "\n",
        "# Training data metrics\n",
        "train_mse, train_rmse, train_mae, train_r2, train_adj_r2 = evaluate_model(Y_train, Y_train_pred, X_train)\n",
        "print(f\"---- Training Data ----\\nMSE: {train_mse}\\nRMSE: {train_rmse}\\nMAE: {train_mae}\\nR2 Score: {train_r2}\\nAdjusted R2 Score: {train_adj_r2}\")\n",
        "\n",
        "# Test data metrics\n",
        "test_mse, test_rmse, test_mae, test_r2, test_adj_r2 = evaluate_model(Y_test, Y_test_pred, X_test)\n",
        "print(f\"---- Test Data ----\\nMSE: {test_mse}\\nRMSE: {test_rmse}\\nMAE: {test_mae}\\nR2 Score: {test_r2}\\nAdjusted R2 Score: {test_adj_r2}\")\n"
      ],
      "metadata": {
        "colab": {
          "base_uri": "https://localhost:8080/"
        },
        "id": "9tFSMJsXrN4s",
        "outputId": "84c65147-85e7-4084-de0f-ce6dbf64fc95"
      },
      "execution_count": 136,
      "outputs": [
        {
          "output_type": "stream",
          "name": "stdout",
          "text": [
            "---- Training Data ----\n",
            "MSE: 24188931.451950934\n",
            "RMSE: 4918.224420657411\n",
            "MAE: 3976.711053643824\n",
            "R2 Score: 0.025448510061495067\n",
            "Adjusted R2 Score: 0.0024826450322065208\n",
            "---- Test Data ----\n",
            "MSE: 24129617.719904963\n",
            "RMSE: 4912.190725114911\n",
            "MAE: 3797.5717657896607\n",
            "R2 Score: 0.00614957783259007\n",
            "Adjusted R2 Score: -0.0949944916800225\n"
          ]
        }
      ]
    }
  ],
  "metadata": {
    "colab": {
      "provenance": []
    },
    "kernelspec": {
      "display_name": "Python 3",
      "name": "python3"
    },
    "language_info": {
      "name": "python"
    }
  },
  "nbformat": 4,
  "nbformat_minor": 0
}