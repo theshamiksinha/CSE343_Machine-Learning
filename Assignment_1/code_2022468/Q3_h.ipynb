{
  "cells": [
    {
      "cell_type": "code",
      "execution_count": 153,
      "metadata": {
        "id": "nneHqIvBCccv"
      },
      "outputs": [],
      "source": [
        "import numpy as np\n",
        "import pandas as pd\n",
        "import matplotlib.pyplot as plt\n",
        "import seaborn as sns\n",
        "import umap\n",
        "from sklearn.linear_model import LinearRegression\n",
        "from sklearn.model_selection import train_test_split\n",
        "from sklearn.preprocessing import LabelEncoder, StandardScaler\n",
        "from sklearn.metrics import mean_squared_error, mean_absolute_error, r2_score\n",
        "from sklearn.feature_selection import RFE\n",
        "from sklearn.linear_model import Ridge\n",
        "from sklearn.ensemble import GradientBoostingRegressor\n",
        "from sklearn.decomposition import FastICA\n",
        "from sklearn.linear_model import ElasticNet"
      ]
    },
    {
      "cell_type": "code",
      "execution_count": 154,
      "metadata": {
        "id": "iZHqd7MjC54A"
      },
      "outputs": [],
      "source": [
        "df = pd.read_csv('/content/ElectricityBill.csv')\n",
        "\n",
        "\n",
        "numerical_cols = ['Construction_Year', 'Number_of_Floors', 'Energy_Consumption_Per_SqM',\n",
        "                   'Water_Usage_Per_Building', 'Waste_Recycled_Percentage', 'Occupancy_Rate',\n",
        "                   'Indoor_Air_Quality', 'Smart_Devices_Count', 'Maintenance_Resolution_Time',\n",
        "                   'Energy_Per_SqM', 'Number_of_Residents']\n",
        "\n",
        "categorical_cols = ['Building_Type', 'Green_Certified', 'Building_Status', 'Maintenance_Priority']\n",
        "\n",
        "# Fill missing values....... fill with mean median mode depending on data type\n",
        "\n",
        "# For numerical columns\n",
        "df[numerical_cols] = df[numerical_cols].fillna(df[numerical_cols].median())\n",
        "# For categorical columns\n",
        "df[categorical_cols] = df[categorical_cols].fillna(df[categorical_cols].mode().iloc[0])\n",
        "\n",
        "# Label encoding for categorical columns\n",
        "label_encoders = {}\n",
        "for cat_col in categorical_cols:\n",
        "    le = LabelEncoder()\n",
        "    df[cat_col] = le.fit_transform(df[cat_col])\n",
        "    label_encoders[cat_col] = le\n",
        "\n",
        "\n",
        "# Defining the features and target variable\n",
        "X = df.drop('Electricity_Bill', axis=1)\n",
        "Y = df['Electricity_Bill']\n",
        "\n",
        "# Split the dataset into training and testing sets\n",
        "X_train, X_test, Y_train, Y_test = train_test_split(X, Y, test_size=0.2, random_state=42)\n",
        "\n",
        "scaler = StandardScaler()\n",
        "X_train = scaler.fit_transform(X_train)\n",
        "X_test = scaler.transform(X_test)"
      ]
    },
    {
      "cell_type": "code",
      "source": [
        "#initialising gbr\n",
        "gbr = GradientBoostingRegressor(random_state=42)\n",
        "\n",
        "# train the model on the training data\n",
        "gbr.fit(X_train, Y_train)\n",
        "\n",
        "# Predicting on the training data\n",
        "Y_train_pred = gbr.predict(X_train)\n",
        "\n",
        "# Predicting on the testing data\n",
        "Y_test_pred = gbr.predict(X_test)"
      ],
      "metadata": {
        "id": "Ioa2bmhSi133"
      },
      "execution_count": 155,
      "outputs": []
    },
    {
      "cell_type": "code",
      "source": [
        "# Training metrics\n",
        "mse_train = mean_squared_error(Y_train, Y_train_pred)\n",
        "rmse_train = mean_squared_error(Y_train, Y_train_pred, squared=False)\n",
        "mae_train = mean_absolute_error(Y_train, Y_train_pred)\n",
        "r2_train = r2_score(Y_train, Y_train_pred)\n",
        "adj_r2_train = 1 - (1 - r2_train) * (len(Y_train) - 1) / (len(Y_train) - X_train.shape[1] - 1)\n",
        "\n",
        "# Testing metrics\n",
        "mse_test = mean_squared_error(Y_test, Y_test_pred)\n",
        "rmse_test = mean_squared_error(Y_test, Y_test_pred, squared=False)\n",
        "mae_test = mean_absolute_error(Y_test, Y_test_pred)\n",
        "r2_test = r2_score(Y_test, Y_test_pred)\n",
        "adj_r2_test = 1 - (1 - r2_test) * (len(Y_test) - 1) / (len(Y_test) - X_test.shape[1] - 1)\n",
        "\n",
        "# Print the results\n",
        "print(\"---- Training Data ----\")\n",
        "print(f\"MSE: {mse_train}\")\n",
        "print(f\"RMSE: {rmse_train}\")\n",
        "print(f\"MAE: {mae_train}\")\n",
        "print(f\"R2 Score: {r2_train}\")\n",
        "print(f\"Adjusted R2 Score: {adj_r2_train}\")\n",
        "print()\n",
        "\n",
        "print(\"---- Test Data ----\")\n",
        "print(f\"MSE: {mse_test}\")\n",
        "print(f\"RMSE: {rmse_test}\")\n",
        "print(f\"MAE: {mae_test}\")\n",
        "print(f\"R2 Score: {r2_test}\")\n",
        "print(f\"Adjusted R2 Score: {adj_r2_test}\")"
      ],
      "metadata": {
        "colab": {
          "base_uri": "https://localhost:8080/"
        },
        "id": "TPjPTftwjPcO",
        "outputId": "3af3ed02-ce3a-4b9d-b507-2c2a77c5e9da"
      },
      "execution_count": 156,
      "outputs": [
        {
          "output_type": "stream",
          "name": "stdout",
          "text": [
            "---- Training Data ----\n",
            "MSE: 14926446.25730777\n",
            "RMSE: 3863.4759294329465\n",
            "MAE: 3092.748188686501\n",
            "R2 Score: 0.398626166333897\n",
            "Adjusted R2 Score: 0.38945888228410885\n",
            "\n",
            "---- Test Data ----\n",
            "MSE: 24405496.61674575\n",
            "RMSE: 4940.1919615279885\n",
            "MAE: 3813.630549423027\n",
            "R2 Score: -0.005213319055167753\n",
            "Adjusted R2 Score: -0.06965007027665293\n"
          ]
        }
      ]
    }
  ],
  "metadata": {
    "colab": {
      "provenance": []
    },
    "kernelspec": {
      "display_name": "Python 3",
      "name": "python3"
    },
    "language_info": {
      "name": "python"
    }
  },
  "nbformat": 4,
  "nbformat_minor": 0
}