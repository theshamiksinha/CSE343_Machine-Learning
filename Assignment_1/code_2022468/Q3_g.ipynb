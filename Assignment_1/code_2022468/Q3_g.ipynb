{
  "cells": [
    {
      "cell_type": "code",
      "execution_count": 145,
      "metadata": {
        "id": "nneHqIvBCccv"
      },
      "outputs": [],
      "source": [
        "import numpy as np\n",
        "import pandas as pd\n",
        "import matplotlib.pyplot as plt\n",
        "import seaborn as sns\n",
        "import umap\n",
        "from sklearn.linear_model import LinearRegression\n",
        "from sklearn.model_selection import train_test_split\n",
        "from sklearn.preprocessing import LabelEncoder, StandardScaler\n",
        "from sklearn.metrics import mean_squared_error, mean_absolute_error, r2_score\n",
        "from sklearn.feature_selection import RFE\n",
        "from sklearn.linear_model import Ridge\n",
        "from sklearn.decomposition import FastICA\n",
        "from sklearn.linear_model import ElasticNet"
      ]
    },
    {
      "cell_type": "code",
      "execution_count": 146,
      "metadata": {
        "id": "iZHqd7MjC54A"
      },
      "outputs": [],
      "source": [
        "df = pd.read_csv('/content/ElectricityBill.csv')\n",
        "\n",
        "\n",
        "numerical_cols = ['Construction_Year', 'Number_of_Floors', 'Energy_Consumption_Per_SqM',\n",
        "                   'Water_Usage_Per_Building', 'Waste_Recycled_Percentage', 'Occupancy_Rate',\n",
        "                   'Indoor_Air_Quality', 'Smart_Devices_Count', 'Maintenance_Resolution_Time',\n",
        "                   'Energy_Per_SqM', 'Number_of_Residents']\n",
        "\n",
        "categorical_cols = ['Building_Type', 'Green_Certified', 'Building_Status', 'Maintenance_Priority']\n",
        "\n",
        "# Fill missing values....... fill with mean median mode depending on data type\n",
        "\n",
        "# For numerical columns\n",
        "df[numerical_cols] = df[numerical_cols].fillna(df[numerical_cols].median())\n",
        "# For categorical columns\n",
        "df[categorical_cols] = df[categorical_cols].fillna(df[categorical_cols].mode().iloc[0])\n",
        "\n",
        "# Label encoding for categorical columns\n",
        "label_encoders = {}\n",
        "for cat_col in categorical_cols:\n",
        "    le = LabelEncoder()\n",
        "    df[cat_col] = le.fit_transform(df[cat_col])\n",
        "    label_encoders[cat_col] = le\n",
        "\n",
        "\n",
        "# Defining the features and target variable\n",
        "X = df.drop('Electricity_Bill', axis=1)\n",
        "Y = df['Electricity_Bill']\n",
        "\n",
        "# Split the dataset into training and testing sets\n",
        "X_train, X_test, Y_train, Y_test = train_test_split(X, Y, test_size=0.2, random_state=42)\n",
        "\n",
        "scaler = StandardScaler()\n",
        "X_train = scaler.fit_transform(X_train)\n",
        "X_test = scaler.transform(X_test)"
      ]
    },
    {
      "cell_type": "code",
      "source": [
        "# Initialize ElasticNet model\n",
        "elastic_net = ElasticNet(alpha=1.0, l1_ratio=0.5, random_state=42)\n",
        "\n",
        "# Train the model\n",
        "elastic_net.fit(X_train, Y_train)\n",
        "\n",
        "# Predict on training and test data\n",
        "Y_train_pred = elastic_net.predict(X_train)\n",
        "Y_test_pred = elastic_net.predict(X_test)"
      ],
      "metadata": {
        "id": "9tFSMJsXrN4s"
      },
      "execution_count": 147,
      "outputs": []
    },
    {
      "cell_type": "code",
      "source": [
        "alpha_values = [0.01, 0.1, 1, 10, 100]\n",
        "\n",
        "# Initialize an empty list to store results\n",
        "results_list = []\n",
        "\n",
        "for alpha in alpha_values:\n",
        "    # Initialize ElasticNet model with current alpha\n",
        "    elastic_net = ElasticNet(alpha=alpha, l1_ratio=0.5, random_state=42)\n",
        "\n",
        "    # Train the model\n",
        "    elastic_net.fit(X_train, Y_train)\n",
        "\n",
        "    # Predict on test data\n",
        "    Y_test_pred = elastic_net.predict(X_test)\n",
        "\n",
        "    # Calculate metrics\n",
        "    mse = mean_squared_error(Y_test, Y_test_pred)\n",
        "    rmse = mean_squared_error(Y_test, Y_test_pred, squared=False)\n",
        "    mae = mean_absolute_error(Y_test, Y_test_pred)\n",
        "    r2 = r2_score(Y_test, Y_test_pred)\n",
        "    adj_r2 = 1 - (1 - r2) * (len(Y_test) - 1) / (len(Y_test) - X_test.shape[1] - 1)\n",
        "\n",
        "    print(f\"Alpha: {alpha}\")\n",
        "    print(f\"  MSE: {mse}\")\n",
        "    print(f\"  RMSE: {rmse}\")\n",
        "    print(f\"  MAE: {mae}\")\n",
        "    print(f\"  R2 Score: {r2}\")\n",
        "    print(f\"  Adjusted R2 Score: {adj_r2}\")\n",
        "    print(\"-\" * 40)\n"
      ],
      "metadata": {
        "colab": {
          "base_uri": "https://localhost:8080/"
        },
        "id": "wJYSijnrelr9",
        "outputId": "a0b66d55-a837-43a3-c510-b4d3d612a08b"
      },
      "execution_count": 152,
      "outputs": [
        {
          "output_type": "stream",
          "name": "stdout",
          "text": [
            "Alpha: 0.01\n",
            "  MSE: 24276857.894035783\n",
            "  RMSE: 4927.155152218751\n",
            "  MAE: 3842.2249727301682\n",
            "  R2 Score: 8.505120317725545e-05\n",
            "  Adjusted R2 Score: -0.06401206089918321\n",
            "----------------------------------------\n",
            "Alpha: 0.1\n",
            "  MSE: 24267611.164532654\n",
            "  RMSE: 4926.216719200715\n",
            "  MAE: 3841.121423809543\n",
            "  R2 Score: 0.000465905393534749\n",
            "  Adjusted R2 Score: -0.06360679297867455\n",
            "----------------------------------------\n",
            "Alpha: 1\n",
            "  MSE: 24236425.434417684\n",
            "  RMSE: 4923.050419650167\n",
            "  MAE: 3835.0470411464416\n",
            "  R2 Score: 0.0017503828933501664\n",
            "  Adjusted R2 Score: -0.062239977177589\n",
            "----------------------------------------\n",
            "Alpha: 10\n",
            "  MSE: 24307006.5318607\n",
            "  RMSE: 4930.213639575946\n",
            "  MAE: 3837.5891179007876\n",
            "  R2 Score: -0.0011567105511067766\n",
            "  Adjusted R2 Score: -0.06533342276592125\n",
            "----------------------------------------\n",
            "Alpha: 100\n",
            "  MSE: 24358231.74488439\n",
            "  RMSE: 4935.405935167278\n",
            "  MAE: 3841.697130377902\n",
            "  R2 Score: -0.0032665740466735205\n",
            "  Adjusted R2 Score: -0.0675785339214603\n",
            "----------------------------------------\n",
            "Empty DataFrame\n",
            "Columns: []\n",
            "Index: []\n"
          ]
        }
      ]
    }
  ],
  "metadata": {
    "colab": {
      "provenance": []
    },
    "kernelspec": {
      "display_name": "Python 3",
      "name": "python3"
    },
    "language_info": {
      "name": "python"
    }
  },
  "nbformat": 4,
  "nbformat_minor": 0
}