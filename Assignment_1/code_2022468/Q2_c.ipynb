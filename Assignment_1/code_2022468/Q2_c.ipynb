{
  "cells": [
    {
      "cell_type": "code",
      "execution_count": 29,
      "metadata": {
        "id": "M7C7ZE0YsKBG"
      },
      "outputs": [],
      "source": [
        "import numpy as np\n",
        "import pandas as pd\n",
        "import matplotlib.pyplot as plt\n",
        "from sklearn.preprocessing import MinMaxScaler\n",
        "from sklearn.metrics import confusion_matrix, accuracy_score, precision_score, recall_score, f1_score, ConfusionMatrixDisplay, roc_auc_score, roc_curve"
      ]
    },
    {
      "cell_type": "code",
      "execution_count": 30,
      "metadata": {
        "colab": {
          "base_uri": "https://localhost:8080/"
        },
        "id": "Wu_GQwAexINR",
        "outputId": "221f748f-3dd5-42a5-b3b0-79e0a923ca65"
      },
      "outputs": [
        {
          "name": "stdout",
          "output_type": "stream",
          "text": [
            "Training set size: 2966\n",
            "Validation set size: 636\n",
            "Test set size: 636\n"
          ]
        }
      ],
      "source": [
        "# Load the dataset\n",
        "data = pd.read_csv(\"HeartDisease.csv\")\n",
        "\n",
        "# Fill missing values....... fill with mean median mode depending on data type\n",
        "\n",
        "# For numerical columns\n",
        "numerical_cols = ['totChol', 'sysBP', 'diaBP', 'BMI', 'heartRate', 'glucose', 'cigsPerDay', 'age']\n",
        "data[numerical_cols] = data[numerical_cols].fillna(data[numerical_cols].median())\n",
        "\n",
        "# For categorical columns\n",
        "categorical_cols = ['male', 'education', 'currentSmoker', 'BPMeds', 'prevalentStroke', 'prevalentHyp', 'diabetes']\n",
        "data[categorical_cols] = data[categorical_cols].fillna(data[categorical_cols].mode().iloc[0])\n",
        "\n",
        "\n",
        "# Determine the split indices according to the requirements\n",
        "total_rows = len(data)\n",
        "train_end = int(total_rows * 0.7)\n",
        "val_end = int(total_rows * 0.85)\n",
        "\n",
        "# Split the dataset\n",
        "train_data = data.iloc[:train_end]\n",
        "val_data = data.iloc[train_end:val_end]\n",
        "test_data = data.iloc[val_end:]\n",
        "\n",
        "# Separate features and target variable if you have one (uncomment and adjust if needed)\n",
        "X_train = train_data.drop('HeartDisease', axis=1)\n",
        "Y_train = train_data['HeartDisease']\n",
        "\n",
        "X_val = val_data.drop('HeartDisease', axis=1)\n",
        "Y_val = val_data['HeartDisease']\n",
        "\n",
        "X_test = test_data.drop('HeartDisease', axis=1)\n",
        "Y_test = test_data['HeartDisease']\n",
        "\n",
        "# Check the sizes\n",
        "print(f\"Training set size: {X_train.shape[0]}\")\n",
        "print(f\"Validation set size: {X_val.shape[0]}\")\n",
        "print(f\"Test set size: {X_test.shape[0]}\")\n"
      ]
    },
    {
      "cell_type": "code",
      "execution_count": 31,
      "metadata": {
        "id": "iEL_7C-c0fBX"
      },
      "outputs": [],
      "source": [
        "#converting the pandas dataframe to numpy array\n",
        "\n",
        "X_train = X_train.values\n",
        "Y_train = Y_train.values\n",
        "\n",
        "X_test = X_test.values\n",
        "Y_test = Y_test.values\n",
        "\n",
        "X_val = X_val.values\n",
        "Y_val = Y_val.values\n"
      ]
    },
    {
      "cell_type": "code",
      "execution_count": 32,
      "metadata": {
        "id": "Om03k-RdfcbP"
      },
      "outputs": [],
      "source": [
        "def sigmoid(x):\n",
        "  return 1 / (1 + np.exp(-x))"
      ]
    },
    {
      "cell_type": "code",
      "execution_count": 33,
      "metadata": {
        "id": "XeZAZixKfdGZ"
      },
      "outputs": [],
      "source": [
        "def accuracy(predictions, groundTruth):\n",
        "  return np.mean(predictions == groundTruth)* 100"
      ]
    },
    {
      "cell_type": "code",
      "execution_count": 34,
      "metadata": {
        "id": "xEseNDJG8Ghr"
      },
      "outputs": [],
      "source": [
        "class LogisticRegression():\n",
        "\n",
        "    def __init__(self, learningRate, epochs):\n",
        "        self.learningRate = learningRate\n",
        "        self.epochs = epochs\n",
        "        self.weights = None\n",
        "        self.bias = None\n",
        "\n",
        "        self.costList = None\n",
        "        self.accuracyList = None\n",
        "        self.valCostList = None\n",
        "        self.valAccList = None\n",
        "\n",
        "    def getValCost(self):\n",
        "      return self.valCostList\n",
        "\n",
        "    def getValAcc(self):\n",
        "      return self.valAccList\n",
        "\n",
        "    def getLoss(self):\n",
        "      return self.costList\n",
        "\n",
        "    def getAccuracy(self):\n",
        "      return self.accuracyList\n",
        "\n",
        "    def gradientDescent(self, X, Y):\n",
        "        m, n = X.shape\n",
        "        self.weights = np.ones(n) #initialising the weights as 0s\n",
        "        self.bias = 1 #initialising the bias as zero\n",
        "\n",
        "        self.costList = []\n",
        "        self.accuracyList = []\n",
        "        self.valCostList = []\n",
        "        self.valAccList = []\n",
        "\n",
        "        epsilon = 1e-10  # Small constant to prevent log(0)\n",
        "\n",
        "        for _ in range(self.epochs):\n",
        "\n",
        "            hypothesis = np.dot(X, self.weights) + self.bias\n",
        "            Y_prediction = sigmoid(hypothesis)\n",
        "\n",
        "            # Cost Function J(w, b), cross entropy loss\n",
        "            cost = -(1/m) * np.sum(Y * np.log(Y_prediction + epsilon) + (1 - Y) * np.log(1 - Y_prediction + epsilon))\n",
        "\n",
        "            #Accuracy\n",
        "            classification = [0 if y<=0.5 else 1 for y in Y_prediction]\n",
        "            acc = accuracy(classification, Y)\n",
        "\n",
        "            self.costList.append(cost)\n",
        "            self.accuracyList.append(acc)\n",
        "            \n",
        "            #validation\n",
        "            modelPredictions_val = self.classify(X_val)\n",
        "            valacc = accuracy(modelPredictions_val, Y_val)\n",
        "            self.valAccList.append(valacc)\n",
        "            hypothesis = np.dot(X_val, self.weights) + self.bias\n",
        "            Y_prediction1 = sigmoid(hypothesis)\n",
        "            valcost = -(1/m) * np.sum(Y_val * np.log(Y_prediction1 + epsilon) + (1 - Y_val) * np.log(1 - Y_prediction1 + epsilon))\n",
        "            self.valCostList.append(valcost)\n",
        "\n",
        "            #calculating the gradients (partial derivative of the cost function J(w, b) wrt weights and bias)\n",
        "            dw = (1/m) * np.dot(X.T, (Y_prediction - Y))\n",
        "            db = (1/m) * np.sum(Y_prediction - Y)\n",
        "\n",
        "            self.weights = self.weights - self.learningRate * dw\n",
        "            self.bias = self.bias - self.learningRate * db\n",
        "\n",
        "            if _ % (self.epochs // 10) == 0:  # Print cost every 10% of iterations\n",
        "                print(f\"Cost after {_} iterations: {cost} & accuracy : {acc}\")\n",
        "\n",
        "\n",
        "    def classify(self, X):\n",
        "        m, n = X.shape\n",
        "\n",
        "        hypothesis = np.dot(X, self.weights) + self.bias\n",
        "        Y_prediction = sigmoid(hypothesis)\n",
        "\n",
        "        classLabels = [0 if y <= 0.5 else 1 for y in Y_prediction]\n",
        "\n",
        "        return classLabels"
      ]
    },
    {
      "cell_type": "code",
      "execution_count": 35,
      "metadata": {
        "id": "NAjPYmKVx-fF"
      },
      "outputs": [],
      "source": [
        "def fit_min_max_scaling(X):\n",
        "    return (X - X.min()) / (X.max() - X.min())"
      ]
    },
    {
      "cell_type": "code",
      "execution_count": 36,
      "metadata": {
        "colab": {
          "base_uri": "https://localhost:8080/"
        },
        "id": "HIcaNALHI8zl",
        "outputId": "111989b4-f9e3-4d31-df00-cf57ee1d3f1a"
      },
      "outputs": [
        {
          "name": "stdout",
          "output_type": "stream",
          "text": [
            "Cost after 0 iterations: 1.9290533433901567 & accuracy : 15.340525960890089\n",
            "Cost after 50 iterations: 0.7966824372613295 & accuracy : 15.340525960890089\n",
            "Cost after 100 iterations: 0.5178405879928735 & accuracy : 15.340525960890089\n",
            "Cost after 150 iterations: 0.4537320532015739 & accuracy : 15.340525960890089\n",
            "Cost after 200 iterations: 0.4350995857349256 & accuracy : 15.340525960890089\n",
            "Cost after 250 iterations: 0.4287346169438095 & accuracy : 15.340525960890089\n",
            "Cost after 300 iterations: 0.42633427336254104 & accuracy : 15.374241402562374\n",
            "Cost after 350 iterations: 0.4253645461410873 & accuracy : 20.802427511800406\n",
            "Cost after 400 iterations: 0.42494709207721487 & accuracy : 40.896830748482806\n",
            "Cost after 450 iterations: 0.4247520321555063 & accuracy : 58.26028320971005\n"
          ]
        }
      ],
      "source": [
        "# using the logistic regression model with learning rate and number of iters passed as parameters\n",
        "model = LogisticRegression(0.05, 500)\n",
        "\n",
        "X_train = fit_min_max_scaling(X_train)\n",
        "X_val = fit_min_max_scaling(X_val)\n",
        "\n",
        "#training the model on training data\n",
        "model.gradientDescent(X_train, Y_train)\n",
        "\n",
        "#storing predictions for the validation data\n",
        "modelPredictions_val = model.classify(X_val)"
      ]
    },
    {
      "cell_type": "code",
      "execution_count": 37,
      "metadata": {
        "colab": {
          "base_uri": "https://localhost:8080/"
        },
        "id": "CQtXu0v5wAST",
        "outputId": "e4774141-7013-4c6c-efec-dfd4402b18b5"
      },
      "outputs": [
        {
          "name": "stdout",
          "output_type": "stream",
          "text": [
            "66.9925826028321\n"
          ]
        }
      ],
      "source": [
        "print(model.accuracyList[-1])"
      ]
    },
    {
      "cell_type": "code",
      "execution_count": 38,
      "metadata": {
        "colab": {
          "base_uri": "https://localhost:8080/"
        },
        "id": "-Xc7zail244q",
        "outputId": "c8194e1a-3128-4321-afd4-3f734c4238b8"
      },
      "outputs": [
        {
          "name": "stdout",
          "output_type": "stream",
          "text": [
            "Precision: 0.4118\n",
            "Recall: 0.1556\n",
            "F1 Score: 0.2258\n",
            "ROC-AUC Score: 0.6934\n"
          ]
        }
      ],
      "source": [
        "# Calculate precision\n",
        "precision = precision_score(Y_val, modelPredictions_val)\n",
        "\n",
        "# Calculate recall\n",
        "recall = recall_score(Y_val, modelPredictions_val)\n",
        "\n",
        "# Calculate F1 score\n",
        "f1 = f1_score(Y_val, modelPredictions_val)\n",
        "\n",
        "# Calculate ROC-AUC score\n",
        "# Use the model to get predicted probabilities\n",
        "modelProbabilities_val = sigmoid(np.dot(X_val, model.weights) + model.bias)\n",
        "roc_auc = roc_auc_score(Y_val, modelProbabilities_val)\n",
        "\n",
        "# Print the results\n",
        "print(f\"Precision: {precision:.4f}\")\n",
        "print(f\"Recall: {recall:.4f}\")\n",
        "print(f\"F1 Score: {f1:.4f}\")\n",
        "print(f\"ROC-AUC Score: {roc_auc:.4f}\")"
      ]
    },
    {
      "cell_type": "code",
      "execution_count": 39,
      "metadata": {
        "colab": {
          "base_uri": "https://localhost:8080/",
          "height": 564
        },
        "id": "6cVlXtzz3tqw",
        "outputId": "bda1a505-b882-4a5b-a11c-cb42faccea4a"
      },
      "outputs": [
        {
          "data": {
            "image/png": "[encoded data removed]",
            "text/plain": [
              "<Figure size 600x600 with 1 Axes>"
            ]
          },
          "metadata": {},
          "output_type": "display_data"
        }
      ],
      "source": [
        "fpr, tpr, thresholds = roc_curve(Y_val, modelProbabilities_val)\n",
        "\n",
        "# Plot the ROC curve\n",
        "plt.figure(figsize=(6, 6))\n",
        "plt.plot(fpr, tpr, color='blue', label=f'ROC curve (area = {roc_auc:.4f})')\n",
        "plt.plot([0, 1], [0, 1], color='gray', linestyle='--')  # Diagonal line\n",
        "plt.xlabel('False Positive Rate')\n",
        "plt.ylabel('True Positive Rate')\n",
        "plt.title('Receiver Operating Characteristic (ROC) Curve')\n",
        "plt.legend(loc='lower right')\n",
        "plt.show()"
      ]
    },
    {
      "cell_type": "code",
      "execution_count": 40,
      "metadata": {
        "id": "-EqKZTK6owVU"
      },
      "outputs": [],
      "source": [
        "def find_confusion_matrix(y_actual, y_pred):\n",
        "\n",
        "    TP = TN = FP = FN = 0\n",
        "\n",
        "    for actual, predicted in zip(y_actual, y_pred):\n",
        "        if actual == 1 and predicted == 1:\n",
        "            TP += 1\n",
        "        elif actual == 0 and predicted == 0:\n",
        "            TN += 1\n",
        "        elif actual == 0 and predicted == 1:\n",
        "            FP += 1\n",
        "        elif actual == 1 and predicted == 0:\n",
        "            FN += 1\n",
        "\n",
        "    # Create the confusion matrix as a 2x2 array\n",
        "    confusion_matrix = np.array([[TN, FP],\n",
        "                                 [FN, TP]])\n",
        "\n",
        "    return confusion_matrix"
      ]
    },
    {
      "cell_type": "code",
      "execution_count": 41,
      "metadata": {
        "colab": {
          "base_uri": "https://localhost:8080/",
          "height": 526
        },
        "id": "zWp_sirsmSnD",
        "outputId": "bc07ba45-532b-4c74-8b85-82935e4a56a1"
      },
      "outputs": [
        {
          "name": "stdout",
          "output_type": "stream",
          "text": [
            "Confusion Matrix:\n",
            "[[526  20]\n",
            " [ 76  14]]\n"
          ]
        },
        {
          "data": {
            "image/png": "[encoded data removed]",
            "text/plain": [
              "<Figure size 640x480 with 2 Axes>"
            ]
          },
          "metadata": {},
          "output_type": "display_data"
        }
      ],
      "source": [
        "# Calculate confusion matrix\n",
        "conf_matrix = find_confusion_matrix(Y_val, modelPredictions_val)\n",
        "\n",
        "# Print or display the confusion matrix\n",
        "print(\"Confusion Matrix:\")\n",
        "print(conf_matrix)\n",
        "\n",
        "# Visualize the confusion matrix\n",
        "ConfusionMatrixDisplay(confusion_matrix=conf_matrix).plot(cmap='Purples')\n",
        "plt.title(\"Confusion Matrix for Validation Set\")\n",
        "plt.show()"
      ]
    }
  ],
  "metadata": {
    "colab": {
      "provenance": []
    },
    "kernelspec": {
      "display_name": "Python 3",
      "name": "python3"
    },
    "language_info": {
      "codemirror_mode": {
        "name": "ipython",
        "version": 3
      },
      "file_extension": ".py",
      "mimetype": "text/x-python",
      "name": "python",
      "nbconvert_exporter": "python",
      "pygments_lexer": "ipython3",
      "version": "3.11.7"
    }
  },
  "nbformat": 4,
  "nbformat_minor": 0
}
