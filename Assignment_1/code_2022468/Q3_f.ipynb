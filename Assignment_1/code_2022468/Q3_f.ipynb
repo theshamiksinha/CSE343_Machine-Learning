{
  "cells": [
    {
      "cell_type": "code",
      "execution_count": 138,
      "metadata": {
        "id": "nneHqIvBCccv"
      },
      "outputs": [],
      "source": [
        "import numpy as np\n",
        "import pandas as pd\n",
        "import matplotlib.pyplot as plt\n",
        "import seaborn as sns\n",
        "import umap\n",
        "from sklearn.linear_model import LinearRegression\n",
        "from sklearn.model_selection import train_test_split\n",
        "from sklearn.preprocessing import LabelEncoder, StandardScaler\n",
        "from sklearn.metrics import mean_squared_error, mean_absolute_error, r2_score\n",
        "from sklearn.feature_selection import RFE\n",
        "from sklearn.linear_model import Ridge\n",
        "from sklearn.decomposition import FastICA"
      ]
    },
    {
      "cell_type": "code",
      "execution_count": 139,
      "metadata": {
        "id": "iZHqd7MjC54A"
      },
      "outputs": [],
      "source": [
        "df = pd.read_csv('/content/ElectricityBill.csv')\n",
        "\n",
        "\n",
        "numerical_cols = ['Construction_Year', 'Number_of_Floors', 'Energy_Consumption_Per_SqM',\n",
        "                   'Water_Usage_Per_Building', 'Waste_Recycled_Percentage', 'Occupancy_Rate',\n",
        "                   'Indoor_Air_Quality', 'Smart_Devices_Count', 'Maintenance_Resolution_Time',\n",
        "                   'Energy_Per_SqM', 'Number_of_Residents']\n",
        "\n",
        "categorical_cols = ['Building_Type', 'Green_Certified', 'Building_Status', 'Maintenance_Priority']\n",
        "\n",
        "# Fill missing values....... fill with mean median mode depending on data type\n",
        "\n",
        "# For numerical columns\n",
        "df[numerical_cols] = df[numerical_cols].fillna(df[numerical_cols].median())\n",
        "# For categorical columns\n",
        "df[categorical_cols] = df[categorical_cols].fillna(df[categorical_cols].mode().iloc[0])\n",
        "\n",
        "# One-Hot Encoding for categorical columns\n",
        "df = pd.get_dummies(df, columns=categorical_cols)\n",
        "\n",
        "# Defining the features and target variable\n",
        "X = df.drop('Electricity_Bill', axis=1)\n",
        "Y = df['Electricity_Bill']\n",
        "\n",
        "# Split the dataset into training and testing sets\n",
        "X_train, X_test, Y_train, Y_test = train_test_split(X, Y, test_size=0.2, random_state=42)"
      ]
    },
    {
      "cell_type": "code",
      "execution_count": 144,
      "metadata": {
        "colab": {
          "base_uri": "https://localhost:8080/"
        },
        "id": "9tFSMJsXrN4s",
        "outputId": "0e29e738-c2c2-4c8b-b0e7-f02ffdee26d0"
      },
      "outputs": [
        {
          "name": "stdout",
          "output_type": "stream",
          "text": [
            "\n",
            "--- ICA with 4 Components ---\n",
            "Training Data:\n",
            "MSE: 24701058.83595767\n",
            "RMSE: 4970.015979446914\n",
            "MAE: 4010.9839044323808\n",
            "R2 Score: 0.00481533301878545\n",
            "Adjusted R2 Score: 0.0008145906389613877\n",
            "\n",
            "Testing Data:\n",
            "MSE: 24167219.465412047\n",
            "RMSE: 4916.016625827464\n",
            "MAE: 3818.893490105248\n",
            "R2 Score: 0.004600837563256355\n",
            "Adjusted R2 Score: -0.011650577333670142\n",
            "\n",
            "--- ICA with 5 Components ---\n",
            "Training Data:\n",
            "MSE: 24683781.19389808\n",
            "RMSE: 4968.277487610579\n",
            "MAE: 4008.4359205885153\n",
            "R2 Score: 0.005511434533035486\n",
            "Adjusted R2 Score: 0.0005089769602639738\n",
            "\n",
            "Testing Data:\n",
            "MSE: 24261490.949717674\n",
            "RMSE: 4925.595491889044\n",
            "MAE: 3831.4951996885943\n",
            "R2 Score: 0.0007179847322226207\n",
            "Adjusted R2 Score: -0.019759105744576066\n",
            "\n",
            "--- ICA with 6 Components ---\n",
            "Training Data:\n",
            "MSE: 24682728.660109933\n",
            "RMSE: 4968.171561058448\n",
            "MAE: 4009.3988550415106\n",
            "R2 Score: 0.00555384022480776\n",
            "Adjusted R2 Score: -0.0004548979007221732\n",
            "\n",
            "Testing Data:\n",
            "MSE: 24253810.821500693\n",
            "RMSE: 4924.815815997659\n",
            "MAE: 3829.8593447145345\n",
            "R2 Score: 0.001034313766496875\n",
            "Adjusted R2 Score: -0.023631505646676043\n",
            "\n",
            "--- ICA with 8 Components ---\n",
            "Training Data:\n",
            "MSE: 24674427.276686326\n",
            "RMSE: 4967.336034202471\n",
            "MAE: 4009.038279586307\n",
            "R2 Score: 0.005888295907569008\n",
            "Adjusted R2 Score: -0.002136823802561638\n",
            "\n",
            "Testing Data:\n",
            "MSE: 24222142.010129824\n",
            "RMSE: 4921.599537765118\n",
            "MAE: 3830.142401265849\n",
            "R2 Score: 0.0023386884116249895\n",
            "Adjusted R2 Score: -0.03077869952491863\n"
          ]
        },
        {
          "name": "stderr",
          "output_type": "stream",
          "text": [
            "/usr/local/lib/python3.10/dist-packages/sklearn/decomposition/_fastica.py:128: ConvergenceWarning:\n",
            "\n",
            "FastICA did not converge. Consider increasing tolerance or the maximum number of iterations.\n",
            "\n"
          ]
        }
      ],
      "source": [
        "# Define number of components to try\n",
        "n_components_list = [4, 5, 6, 8]\n",
        "\n",
        "results = {}\n",
        "\n",
        "for n_components in n_components_list:\n",
        "    # Apply ICA\n",
        "    ica = FastICA(n_components=n_components, random_state=42)\n",
        "    X_train_ica = ica.fit_transform(X_train)\n",
        "    X_test_ica = ica.transform(X_test)\n",
        "\n",
        "    # Train Ridge Regression model\n",
        "    model = Ridge()\n",
        "    model.fit(X_train_ica, Y_train)\n",
        "\n",
        "    # Predict and evaluate\n",
        "    Y_train_pred = model.predict(X_train_ica)\n",
        "    Y_test_pred = model.predict(X_test_ica)\n",
        "\n",
        "    #performance\n",
        "    metrics = {\n",
        "        'MSE_train': mean_squared_error(Y_train, Y_train_pred),\n",
        "        'RMSE_train': mean_squared_error(Y_train, Y_train_pred, squared=False),\n",
        "        'MAE_train': mean_absolute_error(Y_train, Y_train_pred),\n",
        "        'R2_train': r2_score(Y_train, Y_train_pred),\n",
        "        'Adjusted_R2_train': 1 - (1 - r2_score(Y_train, Y_train_pred)) * (len(Y_train) - 1) / (len(Y_train) - X_train_ica.shape[1] - 1),\n",
        "\n",
        "        'MSE_test': mean_squared_error(Y_test, Y_test_pred),\n",
        "        'RMSE_test': mean_squared_error(Y_test, Y_test_pred, squared=False),\n",
        "        'MAE_test': mean_absolute_error(Y_test, Y_test_pred),\n",
        "        'R2_test': r2_score(Y_test, Y_test_pred),\n",
        "        'Adjusted_R2_test': 1 - (1 - r2_score(Y_test, Y_test_pred)) * (len(Y_test) - 1) / (len(Y_test) - X_test_ica.shape[1] - 1)\n",
        "    }\n",
        "\n",
        "    results[n_components] = metrics\n",
        "\n",
        "for n_components, metrics in results.items():\n",
        "    print(f\"\\n--- ICA with {n_components} Components ---\")\n",
        "    print(f\"Training Data:\")\n",
        "    print(f\"MSE: {metrics['MSE_train']}\")\n",
        "    print(f\"RMSE: {metrics['RMSE_train']}\")\n",
        "    print(f\"MAE: {metrics['MAE_train']}\")\n",
        "    print(f\"R2 Score: {metrics['R2_train']}\")\n",
        "    print(f\"Adjusted R2 Score: {metrics['Adjusted_R2_train']}\")\n",
        "\n",
        "    print(f\"\\nTesting Data:\")\n",
        "    print(f\"MSE: {metrics['MSE_test']}\")\n",
        "    print(f\"RMSE: {metrics['RMSE_test']}\")\n",
        "    print(f\"MAE: {metrics['MAE_test']}\")\n",
        "    print(f\"R2 Score: {metrics['R2_test']}\")\n",
        "    print(f\"Adjusted R2 Score: {metrics['Adjusted_R2_test']}\")"
      ]
    }
  ],
  "metadata": {
    "colab": {
      "provenance": []
    },
    "kernelspec": {
      "display_name": "Python 3",
      "name": "python3"
    },
    "language_info": {
      "name": "python"
    }
  },
  "nbformat": 4,
  "nbformat_minor": 0
}
